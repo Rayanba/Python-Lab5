{
 "cells": [
  {
   "cell_type": "code",
   "execution_count": 2,
   "id": "7fc5e52e",
   "metadata": {},
   "outputs": [],
   "source": [
    "listIs = [5, 4, 17, 19, 30, 2, 7, 10, 45]"
   ]
  },
  {
   "cell_type": "code",
   "execution_count": 3,
   "id": "8cd306e5",
   "metadata": {
    "scrolled": true
   },
   "outputs": [
    {
     "name": "stdout",
     "output_type": "stream",
     "text": [
      "139\n"
     ]
    }
   ],
   "source": [
    "print (sum(listIs))"
   ]
  },
  {
   "cell_type": "code",
   "execution_count": 4,
   "id": "84ef8006",
   "metadata": {
    "scrolled": true
   },
   "outputs": [
    {
     "name": "stdout",
     "output_type": "stream",
     "text": [
      "45\n"
     ]
    }
   ],
   "source": [
    "print (max(listIs))"
   ]
  },
  {
   "cell_type": "code",
   "execution_count": 6,
   "id": "5493bfc3",
   "metadata": {},
   "outputs": [
    {
     "name": "stdout",
     "output_type": "stream",
     "text": [
      "[4, 30, 2, 10]\n"
     ]
    }
   ],
   "source": [
    "newList = [item for item in listIs if item % 2 ==0]\n",
    "print (newList)"
   ]
  },
  {
   "cell_type": "code",
   "execution_count": 9,
   "id": "0c58dde3",
   "metadata": {},
   "outputs": [
    {
     "name": "stdout",
     "output_type": "stream",
     "text": [
      "[5, 4, 17, 19, 30]\n"
     ]
    }
   ],
   "source": [
    "listToFive = listIs[:5]\n",
    "print (listToFive)"
   ]
  }
 ],
 "metadata": {
  "kernelspec": {
   "display_name": "Python 3 (ipykernel)",
   "language": "python",
   "name": "python3"
  },
  "language_info": {
   "codemirror_mode": {
    "name": "ipython",
    "version": 3
   },
   "file_extension": ".py",
   "mimetype": "text/x-python",
   "name": "python",
   "nbconvert_exporter": "python",
   "pygments_lexer": "ipython3",
   "version": "3.11.4"
  }
 },
 "nbformat": 4,
 "nbformat_minor": 5
}
